{
  "nbformat": 4,
  "nbformat_minor": 0,
  "metadata": {
    "colab": {
      "provenance": []
    },
    "kernelspec": {
      "name": "python3",
      "display_name": "Python 3"
    },
    "language_info": {
      "name": "python"
    }
  },
  "cells": [
    {
      "cell_type": "code",
      "source": [
        "from google.colab import drive\n",
        "\n",
        "# Mount Google Drive\n",
        "drive.mount('/content/drive')\n"
      ],
      "metadata": {
        "colab": {
          "base_uri": "https://localhost:8080/"
        },
        "id": "MPUOigPlFsYj",
        "outputId": "c62b8292-b69c-4571-f911-fe75e59ad5e9"
      },
      "execution_count": null,
      "outputs": [
        {
          "output_type": "stream",
          "name": "stdout",
          "text": [
            "Mounted at /content/drive\n"
          ]
        }
      ]
    },
    {
      "cell_type": "code",
      "source": [
        "import json\n",
        "\n",
        "# Define the file path\n",
        "#file_path = '/content/drive/MyDrive/124k_PubChem_compound_list.json'\n",
        "file_path = '/content/drive/MyDrive/NEW_augmented_124k_PubChem_compound_list.json'\n",
        "# Load JSON data from the specified file\n",
        "with open(file_path, 'r') as file:\n",
        "    data = json.load(file)\n",
        "\n",
        "# Create a set to store unique CIDs\n",
        "unique_cids = set()\n",
        "\n",
        "# Iterate through each entry in the JSON data\n",
        "for entry in data:\n",
        "    if 'cid' in entry:\n",
        "        unique_cids.add(entry['cid'])\n",
        "\n",
        "# Output the number of unique CIDs\n",
        "print(\"Number of unique CIDs:\", len(unique_cids))\n"
      ],
      "metadata": {
        "colab": {
          "base_uri": "https://localhost:8080/"
        },
        "id": "AaJhjOtWbg3D",
        "outputId": "67f98bbd-5dde-402d-98d9-066120fecbe2"
      },
      "execution_count": null,
      "outputs": [
        {
          "output_type": "stream",
          "name": "stdout",
          "text": [
            "Number of unique CIDs: 125652\n"
          ]
        }
      ]
    },
    {
      "cell_type": "markdown",
      "source": [
        "Creating the New Augmented Chemical Property Dictionary"
      ],
      "metadata": {
        "id": "g7oXucOa-Yc_"
      }
    },
    {
      "cell_type": "code",
      "source": [
        "import json\n",
        "import pandas as pd\n",
        "import pickle\n",
        "\n",
        "# Function to search for a property in the list of dictionaries\n",
        "def search(list_dict, property):\n",
        "    value = []\n",
        "    for i in range(len(list_dict)):\n",
        "        value_property = None\n",
        "        for idx, d in list_dict[i].items():\n",
        "            if idx == property:\n",
        "                value_property = d\n",
        "        value.append(value_property)\n",
        "    return value\n",
        "\n",
        "# Functions to get specific properties from the data\n",
        "def getCID(data):\n",
        "    return search(data, 'cid')\n",
        "\n",
        "def getComplexity(data):\n",
        "    return search(data, 'complexity')\n",
        "\n",
        "def getMolecularWeight(data):\n",
        "    return search(data, 'mw')\n",
        "\n",
        "def getHydrogenBondDonor(data):\n",
        "    return search(data, 'hbonddonor')\n",
        "\n",
        "def getHydrogenBondAcceptor(data):\n",
        "    return search(data, 'hbondacc')\n",
        "\n",
        "def getPolarArea(data):\n",
        "    return search(data, 'polararea')\n",
        "\n",
        "def getxlogp(data):\n",
        "    return search(data, 'xlogp')\n",
        "\n",
        "def getSMILES(data):\n",
        "    return search(data, 'canonicalsmiles')\n",
        "# Create empty dictionaries to store values\n",
        "data_dict = {\n",
        "    'CID': [],\n",
        "    'Complexity': [],\n",
        "    'MolecularWeight': [],\n",
        "    'HydrogenBondDonor': [],\n",
        "    'HydrogenBondAcceptor': [],\n",
        "    'PolarArea': [],\n",
        "    'xlogp': [],\n",
        "    'SMILES': []\n",
        "}\n",
        "\n",
        "# Define the actual file path\n",
        "file_path = '/content/drive/MyDrive/NEW_augmented_124k_PubChem_compound_list.json'\n",
        "with open(file_path, encoding=\"utf8\") as f:\n",
        "    data = json.load(f)\n",
        "\n",
        "    # Extract properties and append to the dictionary\n",
        "    data_dict['CID'].extend(getCID(data))\n",
        "    data_dict['Complexity'].extend(getComplexity(data))\n",
        "    data_dict['MolecularWeight'].extend(getMolecularWeight(data))\n",
        "    data_dict['HydrogenBondDonor'].extend(getHydrogenBondDonor(data))\n",
        "    data_dict['HydrogenBondAcceptor'].extend(getHydrogenBondAcceptor(data))\n",
        "    data_dict['PolarArea'].extend(getPolarArea(data))\n",
        "    data_dict['xlogp'].extend(getxlogp(data))\n",
        "    data_dict['SMILES'].extend(getSMILES(data))\n",
        "\n",
        "# Create a DataFrame using the dictionary\n",
        "compound_df = pd.DataFrame(data_dict)\n",
        "\n",
        "# Handle missing values (if any) by filling them with a default value (e.g., None or NaN)\n",
        "compound_df.fillna('0', inplace=True)\n",
        "\n",
        "# Convert DataFrame to dictionary in desired format\n",
        "output_dict = {}\n",
        "for idx, row in compound_df.iterrows():\n",
        "    cid = str(row['CID'])\n",
        "    output_dict[cid] = {\n",
        "        'complexity': str(row['Complexity']),\n",
        "        'weight': str(row['MolecularWeight']),\n",
        "        'bond_donor_count': str(row['HydrogenBondDonor']),\n",
        "        'bond_acceptor_count': str(row['HydrogenBondAcceptor']),\n",
        "        'polar_area': str(row['PolarArea']),\n",
        "        'xlogp': str(row['xlogp']),\n",
        "        'smiles': str(row['SMILES'])\n",
        "    }\n",
        "\n",
        "# Save the dictionary to a pickle file\n",
        "output_pickle_path = '/content/drive/MyDrive/NEW_Augmented_ChemProperties.pkl'\n",
        "with open(output_pickle_path, 'wb') as pkl_file:\n",
        "    pickle.dump(output_dict, pkl_file)\n",
        "\n",
        "print(f\"Data successfully saved to {output_pickle_path}\")\n"
      ],
      "metadata": {
        "colab": {
          "base_uri": "https://localhost:8080/"
        },
        "id": "PfbEkTdPD78B",
        "outputId": "82a8c019-bdef-40c8-beaf-4ee095ddc39d"
      },
      "execution_count": null,
      "outputs": [
        {
          "output_type": "stream",
          "name": "stdout",
          "text": [
            "Data successfully saved to /content/drive/MyDrive/NEW_Augmented_ChemProperties.pkl\n"
          ]
        }
      ]
    },
    {
      "cell_type": "code",
      "source": [
        "import json\n",
        "\n",
        "# Define the file path\n",
        "#file_path = '/content/drive/MyDrive/124k_PubChem_compound_list.json'\n",
        "file_path = '/content/drive/MyDrive/FINAL_Merged_PubChem_compound_list.json'\n",
        "# Load JSON data from the specified file\n",
        "with open(file_path, 'r') as file:\n",
        "    data = json.load(file)\n",
        "\n",
        "# Create a set to store unique CIDs\n",
        "unique_cids = set()\n",
        "\n",
        "# Iterate through each entry in the JSON data\n",
        "for entry in data:\n",
        "    if 'cid' in entry:\n",
        "        unique_cids.add(entry['cid'])\n",
        "\n",
        "# Output the number of unique CIDs\n",
        "print(\"Number of unique CIDs:\", len(unique_cids))\n"
      ],
      "metadata": {
        "colab": {
          "base_uri": "https://localhost:8080/"
        },
        "outputId": "7a147625-21f2-4289-e933-839816f3531c",
        "id": "mGrOwoO0AJDK"
      },
      "execution_count": null,
      "outputs": [
        {
          "output_type": "stream",
          "name": "stdout",
          "text": [
            "Number of unique CIDs: 125737\n"
          ]
        }
      ]
    },
    {
      "cell_type": "markdown",
      "source": [
        "Creating the Final Chemical Properties Dictionary in pkl"
      ],
      "metadata": {
        "id": "dhpR7neCP4yb"
      }
    },
    {
      "cell_type": "code",
      "source": [
        "import json\n",
        "import pandas as pd\n",
        "import pickle\n",
        "\n",
        "# Function to search for a property in the list of dictionaries\n",
        "def search(list_dict, property):\n",
        "    value = []\n",
        "    for i in range(len(list_dict)):\n",
        "        value_property = None\n",
        "        for idx, d in list_dict[i].items():\n",
        "            if idx == property:\n",
        "                value_property = d\n",
        "        value.append(value_property)\n",
        "    return value\n",
        "\n",
        "# Functions to get specific properties from the data\n",
        "def getCID(data):\n",
        "    return search(data, 'cid')\n",
        "\n",
        "def getComplexity(data):\n",
        "    return search(data, 'complexity')\n",
        "\n",
        "def getMolecularWeight(data):\n",
        "    return search(data, 'mw')\n",
        "\n",
        "def getHydrogenBondDonor(data):\n",
        "    return search(data, 'hbonddonor')\n",
        "\n",
        "def getHydrogenBondAcceptor(data):\n",
        "    return search(data, 'hbondacc')\n",
        "\n",
        "def getPolarArea(data):\n",
        "    return search(data, 'polararea')\n",
        "\n",
        "def getxlogp(data):\n",
        "    return search(data, 'xlogp')\n",
        "\n",
        "# Create empty dictionaries to store values\n",
        "data_dict = {\n",
        "    'CID': [],\n",
        "    'Complexity': [],\n",
        "    'MolecularWeight': [],\n",
        "    'HydrogenBondDonor': [],\n",
        "    'HydrogenBondAcceptor': [],\n",
        "    'PolarArea': [],\n",
        "    'xlogp': []\n",
        "}\n",
        "\n",
        "# Define the actual file path\n",
        "file_path = '/content/drive/MyDrive/FINAL_Merged_PubChem_compound_list.json'\n",
        "with open(file_path, encoding=\"utf8\") as f:\n",
        "    data = json.load(f)\n",
        "\n",
        "    # Extract properties and append to the dictionary\n",
        "    data_dict['CID'].extend(getCID(data))\n",
        "    data_dict['Complexity'].extend(getComplexity(data))\n",
        "    data_dict['MolecularWeight'].extend(getMolecularWeight(data))\n",
        "    data_dict['HydrogenBondDonor'].extend(getHydrogenBondDonor(data))\n",
        "    data_dict['HydrogenBondAcceptor'].extend(getHydrogenBondAcceptor(data))\n",
        "    data_dict['PolarArea'].extend(getPolarArea(data))\n",
        "    data_dict['xlogp'].extend(getxlogp(data))\n",
        "\n",
        "# Create a DataFrame using the dictionary\n",
        "compound_df = pd.DataFrame(data_dict)\n",
        "\n",
        "# Handle missing values (if any) by filling them with a default value (e.g., None or NaN)\n",
        "compound_df.fillna('0', inplace=True)\n",
        "\n",
        "# Convert DataFrame to dictionary in desired format\n",
        "output_dict = {}\n",
        "for idx, row in compound_df.iterrows():\n",
        "    cid = str(row['CID'])\n",
        "    output_dict[cid] = {\n",
        "        'complexity': str(row['Complexity']),\n",
        "        'weight': str(row['MolecularWeight']),\n",
        "        'bond_donor_count': str(row['HydrogenBondDonor']),\n",
        "        'bond_acceptor_count': str(row['HydrogenBondAcceptor']),\n",
        "        'polar_area': str(row['PolarArea']),\n",
        "        'xlogp': str(row['xlogp'])\n",
        "    }\n",
        "\n",
        "# Save the dictionary to a pickle file\n",
        "output_pickle_path = '/content/drive/MyDrive/FINAL_Augmented_ChemProperties.pkl'\n",
        "with open(output_pickle_path, 'wb') as pkl_file:\n",
        "    pickle.dump(output_dict, pkl_file)\n",
        "\n",
        "print(f\"Data successfully saved to {output_pickle_path}\")\n"
      ],
      "metadata": {
        "id": "4H2SNGFlm_Co",
        "colab": {
          "base_uri": "https://localhost:8080/"
        },
        "outputId": "874a4f9d-7378-48c7-e834-2b83dcec9305"
      },
      "execution_count": null,
      "outputs": [
        {
          "output_type": "stream",
          "name": "stdout",
          "text": [
            "Data successfully saved to /content/drive/MyDrive/FINAL_Augmented_ChemProperties.pkl\n"
          ]
        }
      ]
    },
    {
      "cell_type": "markdown",
      "source": [
        "Inlcuding smiles representations"
      ],
      "metadata": {
        "id": "l-OGAbwiOwvN"
      }
    },
    {
      "cell_type": "code",
      "source": [
        "import json\n",
        "import pickle\n",
        "\n",
        "# File paths\n",
        "input_json_path = \"/content/drive/MyDrive/NEW_augmented_124k_PubChem_compound_list.json\"\n",
        "output_pickle_path = \"/content/drive/MyDrive/UPDATED_Augmented_ChemProperties.pkl\"\n",
        "\n",
        "# Load JSON data\n",
        "with open(input_json_path, \"r\", encoding=\"utf8\") as f:\n",
        "    data = json.load(f)\n",
        "\n",
        "# Initialize output dictionary\n",
        "compound_dict = {}\n",
        "\n",
        "for entry in data:\n",
        "    cid = str(entry.get(\"cid\", None))\n",
        "    if cid is None:\n",
        "        continue  # skip entries without CID\n",
        "\n",
        "    compound_dict[cid] = {\n",
        "        'complexity': entry.get(\"complexity\", \"0\"),\n",
        "        'weight': entry.get(\"mw\", \"0\"),\n",
        "        'bond_donor_count': entry.get(\"hbonddonor\", \"0\"),\n",
        "        'bond_acceptor_count': entry.get(\"hbondacc\", \"0\"),\n",
        "        'polar_area': entry.get(\"polararea\", \"0\"),\n",
        "        'xlogp': entry.get(\"xlogp\", \"0\"),\n",
        "        'smiles': entry.get(\"canonicalsmiles\", \"\")\n",
        "    }\n",
        "\n",
        "# Save to .pkl\n",
        "with open(output_pickle_path, 'wb') as pkl_out:\n",
        "    pickle.dump(compound_dict, pkl_out)\n",
        "\n",
        "print(f\"✅ Saved corrected SMILES dictionary to: {output_pickle_path}\")\n"
      ],
      "metadata": {
        "id": "fsdNv0dLQNbz",
        "colab": {
          "base_uri": "https://localhost:8080/"
        },
        "outputId": "369e8e6b-06c3-4016-f70a-ece9b00407da"
      },
      "execution_count": null,
      "outputs": [
        {
          "output_type": "stream",
          "name": "stdout",
          "text": [
            "✅ Saved corrected SMILES dictionary to: /content/drive/MyDrive/UPDATED_Augmented_ChemProperties.pkl\n"
          ]
        }
      ]
    },
    {
      "cell_type": "code",
      "source": [
        "import json\n",
        "import pickle\n",
        "\n",
        "# File paths\n",
        "input_json_path = \"/content/drive/MyDrive/NEW_augmented_124k_PubChem_compound_list.json\"\n",
        "output_pickle_path = \"/content/drive/MyDrive/CLEANED_Augmented_ChemProperties.pkl\"\n",
        "\n",
        "# Load JSON data\n",
        "with open(input_json_path, \"r\", encoding=\"utf8\") as f:\n",
        "    data = json.load(f)\n",
        "\n",
        "# Initialize dictionary\n",
        "compound_dict = {}\n",
        "missing_entries = []\n",
        "\n",
        "# Process each entry\n",
        "for entry in data:\n",
        "    cid = str(entry.get(\"cid\", \"\")).strip()\n",
        "    smiles = entry.get(\"canonicalsmiles\", \"\").strip()\n",
        "\n",
        "    if cid == \"\" or smiles == \"\":\n",
        "        missing_entries.append(cid)\n",
        "        continue\n",
        "\n",
        "    compound_dict[cid] = {\n",
        "        'complexity': entry.get(\"complexity\", \"0\"),\n",
        "        'weight': entry.get(\"mw\", \"0\"),\n",
        "        'bond_donor_count': entry.get(\"hbonddonor\", \"0\"),\n",
        "        'bond_acceptor_count': entry.get(\"hbondacc\", \"0\"),\n",
        "        'polar_area': entry.get(\"polararea\", \"0\"),\n",
        "        'xlogp': entry.get(\"xlogp\", \"0\"),\n",
        "        'smiles': smiles\n",
        "    }\n",
        "\n",
        "# Save to new pickle file\n",
        "with open(output_pickle_path, 'wb') as f:\n",
        "    pickle.dump(compound_dict, f)\n",
        "\n",
        "# Summary of results\n",
        "summary = {\n",
        "    \"Total entries in JSON\": len(data),\n",
        "    \"Saved entries with valid CID and SMILES\": len(compound_dict),\n",
        "    \"Missing or invalid entries skipped\": len(missing_entries),\n",
        "    \"Output path\": output_pickle_path\n",
        "}\n",
        "\n",
        "summary\n"
      ],
      "metadata": {
        "colab": {
          "base_uri": "https://localhost:8080/"
        },
        "id": "SwxupEeE1fNq",
        "outputId": "e3be44e9-15f4-4cc1-f94e-3f9bb049aff8"
      },
      "execution_count": null,
      "outputs": [
        {
          "output_type": "execute_result",
          "data": {
            "text/plain": [
              "{'Total entries in JSON': 125652,\n",
              " 'Saved entries with valid CID and SMILES': 125652,\n",
              " 'Missing or invalid entries skipped': 0,\n",
              " 'Output path': '/content/drive/MyDrive/CLEANED_Augmented_ChemProperties.pkl'}"
            ]
          },
          "metadata": {},
          "execution_count": 17
        }
      ]
    },
    {
      "cell_type": "code",
      "source": [],
      "metadata": {
        "id": "Jr6DYN3W1qWu"
      },
      "execution_count": null,
      "outputs": []
    }
  ]
}