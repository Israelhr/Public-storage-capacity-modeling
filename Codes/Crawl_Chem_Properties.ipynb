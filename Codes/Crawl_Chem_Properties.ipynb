{
  "cells": [
    {
      "cell_type": "code",
      "source": [
        "from google.colab import drive\n",
        "\n",
        "# Mount Google Drive\n",
        "drive.mount('/content/drive')\n"
      ],
      "metadata": {
        "colab": {
          "base_uri": "https://localhost:8080/"
        },
        "id": "bvEsTDStHnTb",
        "outputId": "af2f87f2-5671-46be-e212-cd2ca24fc8b4"
      },
      "id": "bvEsTDStHnTb",
      "execution_count": null,
      "outputs": [
        {
          "output_type": "stream",
          "name": "stdout",
          "text": [
            "Mounted at /content/drive\n"
          ]
        }
      ]
    },
    {
      "cell_type": "markdown",
      "source": [
        "Complete code"
      ],
      "metadata": {
        "id": "iwsE0y1zqeo5"
      },
      "id": "iwsE0y1zqeo5"
    },
    {
      "cell_type": "code",
      "source": [
        "import json\n",
        "import urllib.request\n",
        "\n",
        "def search(list_dict, toCHeading):\n",
        "    for idx, d in enumerate(list_dict):\n",
        "        if d['TOCHeading'] == toCHeading:\n",
        "            return idx\n",
        "\n",
        "def get_property(data, property_name):\n",
        "    try:\n",
        "        idx_1 = search(data['Record']['Section'], 'Chemical and Physical Properties')\n",
        "        idx_2 = search(data['Record']['Section'][idx_1]['Section'], 'Computed Properties')\n",
        "        idx_3 = search(data['Record']['Section'][idx_1]['Section'][idx_2]['Section'], property_name)\n",
        "        if 'Number' in data['Record']['Section'][idx_1]['Section'][idx_2]['Section'][idx_3]['Information'][0]['Value']:\n",
        "            return data['Record']['Section'][idx_1]['Section'][idx_2]['Section'][idx_3]['Information'][0]['Value']['Number'][0]\n",
        "        elif 'StringWithMarkup' in data['Record']['Section'][idx_1]['Section'][idx_2]['Section'][idx_3]['Information'][0]['Value']:\n",
        "            return data['Record']['Section'][idx_1]['Section'][idx_2]['Section'][idx_3]['Information'][0]['Value']['StringWithMarkup'][0]['String']\n",
        "    except:\n",
        "        return \"Property not available\"\n",
        "\n",
        "def download_chem(id):\n",
        "    url_string = f\"https://pubchem.ncbi.nlm.nih.gov/rest/pug_view/data/compound/{id}/JSON/?response_type=display\"\n",
        "    try:\n",
        "        response = urllib.request.urlopen(url_string).read().decode('utf-8')\n",
        "        return json.loads(response)\n",
        "    except urllib.error.URLError as e:\n",
        "        return f\"Error fetching data for CID: {id}, Error: {str(e)}\"\n",
        "\n",
        "def get_properties(cid):\n",
        "    data = download_chem(cid)\n",
        "    if isinstance(data, str):\n",
        "        return data  # Returning the error message directly if it's a string\n",
        "    return {\n",
        "        \"complexity\": get_property(data, 'Complexity'),\n",
        "        \"molecular_weight\": get_property(data, 'Molecular Weight'),\n",
        "        \"hydrogen_bond_donor_count\": get_property(data, 'Hydrogen Bond Donor Count'),\n",
        "        \"hydrogen_bond_acceptor_count\": get_property(data, 'Hydrogen Bond Acceptor Count'),\n",
        "        \"topological_polar_surface_area\": get_property(data, 'Topological Polar Surface Area'),\n",
        "        \"xlogp\": get_property(data, 'XLogP3')\n",
        "    }\n",
        "\n",
        "# Predefined list of missing CIDs\n",
        "missing_cids = ['294', '1151', '2026']\n",
        "\n",
        "# Fetch and print properties for each CID in the list\n",
        "for cid in missing_cids:\n",
        "    properties = get_properties(cid)\n",
        "    print(f\"Properties for CID {cid}: {properties}\")\n"
      ],
      "metadata": {
        "colab": {
          "base_uri": "https://localhost:8080/"
        },
        "id": "z45f2mH2DSKY",
        "outputId": "591bd1e5-535b-44e1-b33d-6f82833a03a2"
      },
      "id": "z45f2mH2DSKY",
      "execution_count": null,
      "outputs": [
        {
          "output_type": "stream",
          "name": "stdout",
          "text": [
            "Properties for CID 294: {'complexity': 382, 'molecular_weight': '342.30', 'hydrogen_bond_donor_count': 8, 'hydrogen_bond_acceptor_count': 11, 'topological_polar_surface_area': 190, 'xlogp': -4.7}\n",
            "Properties for CID 1151: {'complexity': 853, 'molecular_weight': '482.17', 'hydrogen_bond_donor_count': 6, 'hydrogen_bond_acceptor_count': 14, 'topological_polar_surface_area': 239, 'xlogp': -5}\n",
            "Properties for CID 2026: {'complexity': 886, 'molecular_weight': '576.6', 'hydrogen_bond_donor_count': 7, 'hydrogen_bond_acceptor_count': 11, 'topological_polar_surface_area': 210, 'xlogp': 0.2}\n"
          ]
        }
      ]
    },
    {
      "cell_type": "markdown",
      "source": [
        "Crawling the properties from Pubchem and saving them in the specified format"
      ],
      "metadata": {
        "id": "KT61drPXt4w-"
      },
      "id": "KT61drPXt4w-"
    },
    {
      "cell_type": "code",
      "source": [
        "import json\n",
        "import urllib.request\n",
        "import time\n",
        "\n",
        "def search(list_dict, toCHeading):\n",
        "    for idx, d in enumerate(list_dict):\n",
        "        if d['TOCHeading'] == toCHeading:\n",
        "            return idx\n",
        "    return None\n",
        "\n",
        "def get_property(data, property_name):\n",
        "    idx_1 = search(data['Record']['Section'], 'Chemical and Physical Properties')\n",
        "    if idx_1 is None:\n",
        "        return \"Section not available\"\n",
        "    idx_2 = search(data['Record']['Section'][idx_1]['Section'], 'Computed Properties')\n",
        "    if idx_2 is None:\n",
        "        return \"Subsection not available\"\n",
        "    idx_3 = search(data['Record']['Section'][idx_1]['Section'][idx_2]['Section'], property_name)\n",
        "    if idx_3 is None:\n",
        "        return \"Property not available\"\n",
        "    property_info = data['Record']['Section'][idx_1]['Section'][idx_2]['Section'][idx_3]['Information'][0]['Value']\n",
        "    if 'Number' in property_info:\n",
        "        return property_info['Number'][0]\n",
        "    elif 'StringWithMarkup' in property_info:\n",
        "        return property_info['StringWithMarkup'][0]['String']\n",
        "    return \"Format not recognized\"\n",
        "\n",
        "def download_chem(id):\n",
        "    url_string = f\"https://pubchem.ncbi.nlm.nih.gov/rest/pug_view/data/compound/{id}/JSON/?response_type=display\"\n",
        "    try:\n",
        "        response = urllib.request.urlopen(url_string).read().decode('utf-8')\n",
        "        return json.loads(response)\n",
        "    except urllib.error.URLError as e:\n",
        "        return f\"Error fetching data for CID: {id}, Error: {str(e)}\"\n",
        "\n",
        "def get_properties(cid):\n",
        "    data = download_chem(cid)\n",
        "    if isinstance(data, str):\n",
        "        return {\"cid\": cid, \"error\": data}  # Return error message directly if it's a string\n",
        "    return {\n",
        "        \"cid\": cid,\n",
        "        \"cmpdname\": get_property(data, 'IUPAC Name'),\n",
        "        \"mw\": get_property(data, 'Molecular Weight'),\n",
        "        \"complexity\": get_property(data, 'Complexity'),\n",
        "        \"hbonddonor\": get_property(data, 'Hydrogen Bond Donor Count'),\n",
        "        \"hbondacc\": get_property(data, 'Hydrogen Bond Acceptor Count'),\n",
        "        \"polararea\": get_property(data, 'Topological Polar Surface Area'),\n",
        "        \"xlogp\": get_property(data, 'XLogP3')\n",
        "    }\n",
        "\n",
        "# Predefined list of missing CIDs\n",
        "missing_cids= ['294', '1151', '2026', '2459', '2608', '2998', '4243', '5595', '19958', '32731', '36207', '40073', '56068', '60730', '62074', '66273', '66370', '72421', '86370', '125782', '151164', '171283', '198736', '199402', '208909', '213027', '228400', '426058', '439341', '441190', '441362', '452254', '453618', '519316', '656684', '1549144', '2723733', '3037933', '3047796', '3246540', '3465281', '3829279', '4469989', '4655349', '5287971', '5293655', '5311491', '5353563', '5375083', '5459124', '5484736', '5486549', '5489436', '5702059', '5702060', '5702224', '6035169', '6093416', '6333901', '6335620', '6419722', '6473878', '6708740', '6917855', '6918047', '6918627', '6971047', '6991966', '7079600', '7098673', '9573169', '9692361', '9808655', '9832798', '9882672', '9886567', '9888108', '9936012', '9977421', '9995070', '10019578', '10068406', '10106002', '10423777', '10569111']\n",
        "\n",
        "# Rate limiting setup\n",
        "rate_limit = 1  # Number of seconds to wait between API calls\n",
        "\n",
        "# Fetch and collect properties for each CID in the list\n",
        "properties_list = []\n",
        "for cid in missing_cids:\n",
        "    properties = get_properties(cid)\n",
        "    properties_list.append(properties)\n",
        "    print(f\"Processed CID {cid}\")\n",
        "    time.sleep(rate_limit)  # Pause to respect potential API rate limits\n",
        "\n",
        "# Write to JSON file in the specified Google Drive folder\n",
        "path = '/content/drive/MyDrive/FINAL_missing_cids_properties.json'\n",
        "with open(path, 'w') as f:\n",
        "    json.dump(properties_list, f, indent=4)\n",
        "\n",
        "print(f\"JSON file with missing CIDs properties has been created at {path}.\")\n"
      ],
      "metadata": {
        "colab": {
          "base_uri": "https://localhost:8080/"
        },
        "id": "EgkSRINYIDdl",
        "outputId": "25d249ed-6291-4623-e193-b4d5c94a203a"
      },
      "id": "EgkSRINYIDdl",
      "execution_count": null,
      "outputs": [
        {
          "output_type": "stream",
          "name": "stdout",
          "text": [
            "Processed CID 294\n",
            "Processed CID 1151\n",
            "Processed CID 2026\n",
            "Processed CID 2459\n",
            "Processed CID 2608\n",
            "Processed CID 2998\n",
            "Processed CID 4243\n",
            "Processed CID 5595\n",
            "Processed CID 19958\n",
            "Processed CID 32731\n",
            "Processed CID 36207\n",
            "Processed CID 40073\n",
            "Processed CID 56068\n",
            "Processed CID 60730\n",
            "Processed CID 62074\n",
            "Processed CID 66273\n",
            "Processed CID 66370\n",
            "Processed CID 72421\n",
            "Processed CID 86370\n",
            "Processed CID 125782\n",
            "Processed CID 151164\n",
            "Processed CID 171283\n",
            "Processed CID 198736\n",
            "Processed CID 199402\n",
            "Processed CID 208909\n",
            "Processed CID 213027\n",
            "Processed CID 228400\n",
            "Processed CID 426058\n",
            "Processed CID 439341\n",
            "Processed CID 441190\n",
            "Processed CID 441362\n",
            "Processed CID 452254\n",
            "Processed CID 453618\n",
            "Processed CID 519316\n",
            "Processed CID 656684\n",
            "Processed CID 1549144\n",
            "Processed CID 2723733\n",
            "Processed CID 3037933\n",
            "Processed CID 3047796\n",
            "Processed CID 3246540\n",
            "Processed CID 3465281\n",
            "Processed CID 3829279\n",
            "Processed CID 4469989\n",
            "Processed CID 4655349\n",
            "Processed CID 5287971\n",
            "Processed CID 5293655\n",
            "Processed CID 5311491\n",
            "Processed CID 5353563\n",
            "Processed CID 5375083\n",
            "Processed CID 5459124\n",
            "Processed CID 5484736\n",
            "Processed CID 5486549\n",
            "Processed CID 5489436\n",
            "Processed CID 5702059\n",
            "Processed CID 5702060\n",
            "Processed CID 5702224\n",
            "Processed CID 6035169\n",
            "Processed CID 6093416\n",
            "Processed CID 6333901\n",
            "Processed CID 6335620\n",
            "Processed CID 6419722\n",
            "Processed CID 6473878\n",
            "Processed CID 6708740\n",
            "Processed CID 6917855\n",
            "Processed CID 6918047\n",
            "Processed CID 6918627\n",
            "Processed CID 6971047\n",
            "Processed CID 6991966\n",
            "Processed CID 7079600\n",
            "Processed CID 7098673\n",
            "Processed CID 9573169\n",
            "Processed CID 9692361\n",
            "Processed CID 9808655\n",
            "Processed CID 9832798\n",
            "Processed CID 9882672\n",
            "Processed CID 9886567\n",
            "Processed CID 9888108\n",
            "Processed CID 9936012\n",
            "Processed CID 9977421\n",
            "Processed CID 9995070\n",
            "Processed CID 10019578\n",
            "Processed CID 10068406\n",
            "Processed CID 10106002\n",
            "Processed CID 10423777\n",
            "Processed CID 10569111\n",
            "JSON file with missing CIDs properties has been created at /content/drive/MyDrive/FINAL_missing_cids_properties.json.\n"
          ]
        }
      ]
    },
    {
      "cell_type": "markdown",
      "source": [
        "Merging missing chem properties with existing chem properties"
      ],
      "metadata": {
        "id": "45j-wpa8N0rC"
      },
      "id": "45j-wpa8N0rC"
    },
    {
      "cell_type": "code",
      "source": [
        "import json\n",
        "\n",
        "def load_json_file(filepath):\n",
        "    \"\"\" Load the content of a JSON file. \"\"\"\n",
        "    with open(filepath, 'r') as file:\n",
        "        return json.load(file)\n",
        "\n",
        "def save_json_file(data, filepath):\n",
        "    \"\"\" Save data to a JSON file with indentation for readability. \"\"\"\n",
        "    with open(filepath, 'w') as file:\n",
        "        json.dump(data, file, indent=4)\n",
        "\n",
        "# File paths\n",
        "new_data_path = '/content/drive/MyDrive/FINAL_missing_cids_properties.json'\n",
        "existing_data_path = '/content/drive/MyDrive/NEW_augmented_124k_PubChem_compound_list.json'\n",
        "merged_data_path = '/content/drive/MyDrive/FINAL_Merged_PubChem_compound_list.json'  # Path for the merged file\n",
        "\n",
        "# Load data from both JSON files\n",
        "new_data = load_json_file(new_data_path)\n",
        "existing_data = load_json_file(existing_data_path)\n",
        "\n",
        "# Merge the data\n",
        "merged_data = existing_data + new_data  # Appends new data to the existing list\n",
        "\n",
        "# Save the merged data to a new file\n",
        "save_json_file(merged_data, merged_data_path)\n",
        "\n",
        "print(f\"Merged data has been saved to {merged_data_path}.\")\n"
      ],
      "metadata": {
        "colab": {
          "base_uri": "https://localhost:8080/"
        },
        "id": "wOl-XFmnLG-D",
        "outputId": "8e5057ab-efe9-45b3-89fe-cb1ba04e5048"
      },
      "id": "wOl-XFmnLG-D",
      "execution_count": null,
      "outputs": [
        {
          "output_type": "stream",
          "name": "stdout",
          "text": [
            "Merged data has been saved to /content/drive/MyDrive/FINAL_Merged_PubChem_compound_list.json.\n"
          ]
        }
      ]
    },
    {
      "cell_type": "code",
      "source": [],
      "metadata": {
        "id": "BYRfci6OOEXM"
      },
      "id": "BYRfci6OOEXM",
      "execution_count": null,
      "outputs": []
    }
  ],
  "metadata": {
    "kernelspec": {
      "display_name": "Python 3 (ipykernel)",
      "language": "python",
      "name": "python3"
    },
    "language_info": {
      "codemirror_mode": {
        "name": "ipython",
        "version": 3
      },
      "file_extension": ".py",
      "mimetype": "text/x-python",
      "name": "python",
      "nbconvert_exporter": "python",
      "pygments_lexer": "ipython3",
      "version": "3.9.16"
    },
    "colab": {
      "provenance": []
    }
  },
  "nbformat": 4,
  "nbformat_minor": 5
}